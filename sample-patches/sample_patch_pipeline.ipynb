{
 "cells": [
  {
   "cell_type": "code",
   "execution_count": 1,
   "id": "78fc0c7c-8d6d-456d-a8a0-8cd7f76be9b3",
   "metadata": {},
   "outputs": [
    {
     "name": "stdout",
     "output_type": "stream",
     "text": [
      "INFO:tensorflow:Mixed precision compatibility check (mixed_float16): OK\n",
      "Your GPUs will likely run quickly with dtype policy mixed_float16 as they all have compute capability of at least 7.0\n"
     ]
    }
   ],
   "source": [
    "import json\n",
    "import os\n",
    "os.environ['TF_CPP_MIN_LOG_LEVEL'] = '3' \n",
    "\n",
    "from preprocess import Preprocess\n",
    "from runtime import RunTime"
   ]
  },
  {
   "cell_type": "code",
   "execution_count": 2,
   "id": "1a5ef0aa-b5ab-477e-8348-a883948df7fb",
   "metadata": {},
   "outputs": [],
   "source": [
    "data_dict = {'raw_data_dir': '/rsrch1/ip/aecelaya/data/brats_2020/raw/train/',\n",
    "             'processed_data_dir': '/rsrch1/ip/aecelaya/data/brats_2020/processed/sample-patches/',\n",
    "             'model_dir': '/rsrch1/ip/aecelaya/data/brats_2020/models/sample-patches/',\n",
    "             'prediction_dir': '/rsrch1/ip/aecelaya/data/brats_2020/predictions/sample-patches/',\n",
    "             'patch_size': (128, 128, 64),\n",
    "             'samples_per_patient': 30,\n",
    "             'raw_paths_csv': 'raw_paths.csv',\n",
    "             'mask': ['seg.nii.gz'], \n",
    "             'images': {'t1': ['_t1.nii.gz'], \n",
    "                        't2': ['_t2.nii.gz'], \n",
    "                        'tc': ['_t1ce.nii.gz'], \n",
    "                        'fl': ['_flair.nii.gz']}, \n",
    "             'labels': [0, 1, 2, 4], \n",
    "             'batch_size': 4, \n",
    "             'epochs': 1, \n",
    "             'train_proto': 'trainval'}\n",
    "\n",
    "with open('input.json', 'w') as outfile: \n",
    "    json.dump(data_dict, outfile)"
   ]
  },
  {
   "cell_type": "code",
   "execution_count": 3,
   "id": "92084fb9-f9b1-415f-b2af-aaf96a1635b4",
   "metadata": {},
   "outputs": [],
   "source": [
    "preprocess_rc = Preprocess('input.json')\n",
    "#preprocess_rc.run()"
   ]
  },
  {
   "cell_type": "code",
   "execution_count": 4,
   "id": "259de586-3d73-4405-ab44-de9904d661db",
   "metadata": {},
   "outputs": [
    {
     "name": "stdout",
     "output_type": "stream",
     "text": [
      "INFO:tensorflow:Using MirroredStrategy with devices ('/job:localhost/replica:0/task:0/device:GPU:0', '/job:localhost/replica:0/task:0/device:GPU:1')\n",
      "INFO:tensorflow:Reduce to /job:localhost/replica:0/task:0/device:CPU:0 then broadcast to ('/job:localhost/replica:0/task:0/device:CPU:0',).\n",
      "INFO:tensorflow:Reduce to /job:localhost/replica:0/task:0/device:CPU:0 then broadcast to ('/job:localhost/replica:0/task:0/device:CPU:0',).\n",
      "INFO:tensorflow:Reduce to /job:localhost/replica:0/task:0/device:CPU:0 then broadcast to ('/job:localhost/replica:0/task:0/device:CPU:0',).\n",
      "INFO:tensorflow:Reduce to /job:localhost/replica:0/task:0/device:CPU:0 then broadcast to ('/job:localhost/replica:0/task:0/device:CPU:0',).\n",
      "INFO:tensorflow:Reduce to /job:localhost/replica:0/task:0/device:CPU:0 then broadcast to ('/job:localhost/replica:0/task:0/device:CPU:0',).\n",
      "INFO:tensorflow:batch_all_reduce: 167 all-reduces with algorithm = nccl, num_packs = 1\n",
      "INFO:tensorflow:Reduce to /job:localhost/replica:0/task:0/device:CPU:0 then broadcast to ('/job:localhost/replica:0/task:0/device:CPU:0',).\n",
      "INFO:tensorflow:Reduce to /job:localhost/replica:0/task:0/device:CPU:0 then broadcast to ('/job:localhost/replica:0/task:0/device:CPU:0',).\n",
      "INFO:tensorflow:Reduce to /job:localhost/replica:0/task:0/device:CPU:0 then broadcast to ('/job:localhost/replica:0/task:0/device:CPU:0',).\n",
      "INFO:tensorflow:batch_all_reduce: 167 all-reduces with algorithm = nccl, num_packs = 1\n",
      "INFO:tensorflow:Reduce to /job:localhost/replica:0/task:0/device:CPU:0 then broadcast to ('/job:localhost/replica:0/task:0/device:CPU:0',).\n",
      "INFO:tensorflow:Reduce to /job:localhost/replica:0/task:0/device:CPU:0 then broadcast to ('/job:localhost/replica:0/task:0/device:CPU:0',).\n",
      "500/500 [==============================] - 1075s 1s/step - loss: 0.3809 - val_loss: 0.2324\n",
      "\n",
      "Epoch 00001: val_loss improved from inf to 0.23236, saving model to /rsrch1/ip/aecelaya/data/brats_2020/models/sample-patches/brats_model_train_val_split\n",
      "INFO:tensorflow:Assets written to: /rsrch1/ip/aecelaya/data/brats_2020/models/sample-patches/brats_model_train_val_split/assets\n"
     ]
    },
    {
     "name": "stderr",
     "output_type": "stream",
     "text": [
      "WARNING:root:The given value for groups will be overwritten.\n",
      "WARNING:root:The given value for groups will be overwritten.\n",
      "WARNING:root:The given value for groups will be overwritten.\n",
      "WARNING:root:The given value for groups will be overwritten.\n",
      "WARNING:root:The given value for groups will be overwritten.\n",
      "WARNING:root:The given value for groups will be overwritten.\n",
      "WARNING:root:The given value for groups will be overwritten.\n",
      "WARNING:root:The given value for groups will be overwritten.\n",
      "WARNING:root:The given value for groups will be overwritten.\n",
      "WARNING:root:The given value for groups will be overwritten.\n",
      "WARNING:root:The given value for groups will be overwritten.\n",
      "WARNING:root:The given value for groups will be overwritten.\n",
      "WARNING:root:The given value for groups will be overwritten.\n",
      "WARNING:root:The given value for groups will be overwritten.\n",
      "WARNING:root:The given value for groups will be overwritten.\n",
      "WARNING:root:The given value for groups will be overwritten.\n",
      "WARNING:root:The given value for groups will be overwritten.\n",
      "WARNING:root:The given value for groups will be overwritten.\n",
      "100%|██████████| 74/74 [13:08<00:00, 10.66s/it]  \n"
     ]
    }
   ],
   "source": [
    "run_rc = RunTime('input.json')\n",
    "run_rc.run()"
   ]
  },
  {
   "cell_type": "code",
   "execution_count": null,
   "id": "0bdc9d86-d6ba-413e-8e16-eeebe84e21c2",
   "metadata": {},
   "outputs": [],
   "source": []
  }
 ],
 "metadata": {
  "kernelspec": {
   "display_name": "Python 3",
   "language": "python",
   "name": "python3"
  },
  "language_info": {
   "codemirror_mode": {
    "name": "ipython",
    "version": 3
   },
   "file_extension": ".py",
   "mimetype": "text/x-python",
   "name": "python",
   "nbconvert_exporter": "python",
   "pygments_lexer": "ipython3",
   "version": "3.9.4"
  }
 },
 "nbformat": 4,
 "nbformat_minor": 5
}
